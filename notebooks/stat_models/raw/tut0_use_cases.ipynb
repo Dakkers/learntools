{
 "cells": [
  {
   "cell_type": "markdown",
   "metadata": {},
   "source": [
    "# What Is A Classical Statistical Model\n",
    "\n",
    "This course will teach you how to build and intelligently interpret a family of modeling techniques called **Generalized Linear Models** (also called **GLM** models). **Linear regression** and **logistic regression** are the most important GLM models. In fact, many analysts know linear and logistic regressions without being aware they are part of this larger family of modeling techniques.\n",
    "\n",
    "We will describe all of these models with the less technical term **Classical Statistical Models**. More details about them are coming up in the course.\n",
    "\n",
    "# Why Learn These Models\n",
    "\n",
    "Some people (mistakenly) claim these techniques are no longer important.\n",
    "\n",
    "These people point out that newer machine learning techniques (like Random Forests, Gradient Boosting and Deep Learning) usually make more accurate predictions.\n",
    "\n",
    "They are right (and if you want to focus on those types of Machine Learning techniques, **[this micro-course](https://www.kaggle.com/learn/machine-learning)** is a great place to start.)\n",
    "\n",
    "But classical statistical models are a better fit for many situations. If you work in these situations, or just be a versatile data scientist, you should know these techniques.\n",
    "\n",
    "What are the circumstances where these techniques are most important:\n",
    "\n",
    "### Making Predictions Quickly\n",
    "These models are frequently \"accurate enough\" for practical purposes, and they can run vastly faster than more complex machine learning models. This is especially valuable when the model is deployed for real-time decision-making.\n",
    "\n",
    "### Sparse Data\n",
    "Sparse data is data that has a lot of zeros. For example, consider a dataset where each row represents an email, and each row represents an english word.  The value in a row-cell pair is the number of times the relevant word showed up in the relevant email. Most emails contain a small fraction of possible words, so most values are 0. Classical statistical models can be very effective in these circumstances (especially when paired with a technique called regularization, which you will learn about in this micro-course).\n",
    "\n",
    "### Working With Others Who Use These Models\n",
    "These models are extremely popular (partially for historical reasons). So others will show them to you, and some collaborators will prefer you work with these models because it's what they know best. The set of users who know only these models should decrease over time, but there are still a lot of analysts who know only these models.\n",
    "\n",
    "### Data Exploration\n",
    "These models run quickly, and it's easy to understand their results. So you can use them as a tool to quickly explore relationships in your data.\n",
    "\n",
    "### Easy to Understood\n",
    "This is subjective. In many cases, something can feel simple only because we are already familiar with it.  \n",
    "\n",
    "But most people who know linear or logistic regression techniques can tell how these model will behave in new circumstances (e.g. for values that are larger or smaller than anything in your training data). This can be useful as you embed these models into larger systems (or business processes).\n",
    "\n",
    "# Let's Get Started\n",
    "So you have many good reasons to learn about these models. **[Let's get started]($_NEXT_NOTEBOOK_URL$).** "
   ]
  }
 ],
 "metadata": {
  "kernelspec": {
   "display_name": "Python 3",
   "language": "python",
   "name": "python3"
  },
  "language_info": {
   "codemirror_mode": {
    "name": "ipython",
    "version": 3
   },
   "file_extension": ".py",
   "mimetype": "text/x-python",
   "name": "python",
   "nbconvert_exporter": "python",
   "pygments_lexer": "ipython3",
   "version": "3.6.8"
  }
 },
 "nbformat": 4,
 "nbformat_minor": 2
}
