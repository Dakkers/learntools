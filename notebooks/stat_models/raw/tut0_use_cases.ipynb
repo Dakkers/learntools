{
 "cells": [
  {
   "cell_type": "markdown",
   "metadata": {},
   "source": [
    "# What Is A Classical Statistical Model\n",
    "\n",
    "This course will teach you how to build and intelligently interpret a family of modeling techniques called **Generalized Linear Models** (also called **GLM** models). **Linear regression** and **logistic regression** are, by far, the most important GLM models.\n",
    "\n",
    "In fact, many analysts and data scientists are familiar with linear and logistic regressions, while they may have never heard these are part of a family of techniques called GLM.\n",
    "\n",
    "These techniques are equally identifiable as **Classical Statistical Models**, though that term is less technical. So, if you want to be technical to impress other data scientists,  you can call these techniques **GLM**.\n",
    "\n",
    "# Why Learn About Classical Statistical Models\n",
    "\n",
    "Some people (mistakenly) claim these techniques are no longer important. \n",
    "\n",
    "These people (correctly) point out that more recently developed machine learning techniques (like Random Forests, Gradient Boosting and Deep Learning) make more accurate predictions in most applications.\n",
    "\n",
    "But classical statistical models are a better fit for many situations. If you work in these situations, or just want to be a versatile data scientist, you should know these techniques.\n",
    "\n",
    "Where specifically are these techniques important?\n",
    "\n",
    "### Making Predictions Quickly\n",
    "Stuff here\n",
    "\n",
    "### Sparse (or Small) Data\n",
    "\n",
    "### Working With Others Who Use These Models\n",
    "\n",
    "### Data Exploration\n",
    "\n",
    "### Well Understood\n",
    "This is subjective. In many cases, we may feel something is simple or easy to understand only because we are already familiar with it.  \n",
    "\n",
    "But data scientists who know linear or logistic regression techniques well can tell how these model will behave in new circumstances, which is useful as you embed these models into larger systems (or business processes).\n",
    "\n",
    "# Let's Get Started\n",
    "Whether you want to be prepared for these situations, or just be a well-rounded data scientist, you should know classical statistical models. **[Get started here]($_NEXT_NOTEBOOK_URL$).**\n",
    "\n",
    "TODO: Add link to Machine Learning course."
   ]
  }
 ],
 "metadata": {
  "kernelspec": {
   "display_name": "Python 3",
   "language": "python",
   "name": "python3"
  },
  "language_info": {
   "codemirror_mode": {
    "name": "ipython",
    "version": 3
   },
   "file_extension": ".py",
   "mimetype": "text/x-python",
   "name": "python",
   "nbconvert_exporter": "python",
   "pygments_lexer": "ipython3",
   "version": "3.6.8"
  }
 },
 "nbformat": 4,
 "nbformat_minor": 2
}
